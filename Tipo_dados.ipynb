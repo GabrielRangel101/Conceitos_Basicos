{
 "cells": [
  {
   "cell_type": "markdown",
   "metadata": {},
   "source": [
    "##  Tipo da Informação\n",
    "Na programação, o tipo de dados é um conceito importante. Variáveis ​​podem armazenar dados de diferentes tipos, e diferentes tipos podem fazer coisas diferentes. O Python tem os seguintes tipos de dados integrados por padrão, nestas categorias: \n",
    "1. Text Type: *str*\n",
    "2. Numeric Types:\t*int*, *float*, *complex*\n",
    "3. Sequence Types:\t*list*, *tuple*, *range*\n",
    "4. Mapping Type:\t*dict*\n",
    "5. Set Types:\t*set*, *frozenset*\n",
    "6. Boolean Type:\t*bool*\n",
    "7. Binary Types:\t*bytes*, *bytearray*, *memoryview*\n"
   ]
  },
  {
   "cell_type": "code",
   "execution_count": 1,
   "metadata": {},
   "outputs": [
    {
     "name": "stdout",
     "output_type": "stream",
     "text": [
      "<class 'str'>\n",
      "<class 'int'>\n",
      "<class 'float'>\n",
      "<class 'complex'>\n",
      "<class 'list'>\n",
      "<class 'tuple'>\n",
      "<class 'range'>\n",
      "<class 'dict'>\n",
      "<class 'set'>\n",
      "<class 'frozenset'>\n",
      "<class 'bool'>\n",
      "<class 'bytes'>\n",
      "<class 'bytearray'>\n",
      "<class 'memoryview'>\n",
      "<class 'datetime.date'>\n"
     ]
    }
   ],
   "source": [
    "# Criando tipos de informações\n",
    "String = str('Olá Mundo!')\n",
    "Inteiro = int(10)\n",
    "Flutuante = float(10.99)\n",
    "Complex = complex(1j)\n",
    "Lista = list( ('Maça', 'Morango', 'Pera') )\n",
    "Tupla = tuple( ('Maça', 'Morango', 'Pera') )\n",
    "Range = range(6)\n",
    "Dicionario = dict(nome='Odemir', age=29)\n",
    "Set = set( ('Maça', 'Morango', 'Pera') )\n",
    "Fronzet = frozenset( ('Maça', 'Morango', 'Pera') )\n",
    "Boleano = bool(5)\n",
    "Bytes = bytes(5)\n",
    "ByteArray = bytearray(5)\n",
    "Memoryview = memoryview( bytes(5) )\n",
    "\n",
    "from datetime import datetime\n",
    "Data = datetime.today().date()\n",
    "\n",
    "# Mostrando os Valores\n",
    "print( type(String) )\n",
    "print( type(Inteiro) )\n",
    "print( type(Flutuante) )\n",
    "print( type(Complex) )\n",
    "print( type(Lista) )\n",
    "print( type(Tupla) )\n",
    "print( type(Range) )\n",
    "print( type(Dicionario) )\n",
    "print( type(Set) )\n",
    "print( type(Fronzet) )\n",
    "print( type(Boleano) )\n",
    "print( type(Bytes) )\n",
    "print( type(ByteArray) )\n",
    "print( type(Memoryview) )\n",
    "print( type(Data) )"
   ]
  }
 ],
 "metadata": {
  "kernelspec": {
   "display_name": "Python 3",
   "language": "python",
   "name": "python3"
  },
  "language_info": {
   "codemirror_mode": {
    "name": "ipython",
    "version": 3
   },
   "file_extension": ".py",
   "mimetype": "text/x-python",
   "name": "python",
   "nbconvert_exporter": "python",
   "pygments_lexer": "ipython3",
   "version": "3.12.3"
  }
 },
 "nbformat": 4,
 "nbformat_minor": 2
}
